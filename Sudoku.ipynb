{
 "cells": [
  {
   "cell_type": "code",
   "execution_count": 1,
   "metadata": {},
   "outputs": [],
   "source": [
    "import pandas as pd\n",
    "import numpy as np\n",
    "from docplex.mp.model import Model"
   ]
  },
  {
   "cell_type": "code",
   "execution_count": 23,
   "metadata": {},
   "outputs": [],
   "source": [
    "# Sudoku parameters\n",
    "N_DIGITS = 9\n",
    "N_ROWS = 9\n",
    "N_COLS = 9\n",
    "GRID_SIZE = N_ROWS * N_COLS"
   ]
  },
  {
   "cell_type": "code",
   "execution_count": 37,
   "metadata": {},
   "outputs": [],
   "source": [
    "# Hard\n",
    "grid = np.array(\n",
    "    [\n",
    "        [0, 0, 0, 0, 5, 1, 0, 0, 0],\n",
    "        [0, 0, 2, 3, 0, 0, 1, 0, 9],\n",
    "        [0, 0, 1, 9, 8, 2, 3, 0, 0],\n",
    "        [0, 8, 4, 0, 3, 7, 0, 0, 0],\n",
    "        [0, 6, 0, 0, 4, 0, 0, 7, 0],\n",
    "        [9, 0, 0, 0, 0, 0, 4, 0, 0],\n",
    "        [2, 0, 0, 5, 0, 0, 6, 0, 0],\n",
    "        [0, 4, 0, 0, 2, 0, 0, 9, 0],\n",
    "        [0, 0, 0, 1, 0, 0, 0, 4, 0]\n",
    "    ]\n",
    ")\n",
    "# Specialist\n",
    "grid = np.array(\n",
    "    [\n",
    "        [0, 0, 0, 0, 9, 0, 0, 2, 0],\n",
    "        [4, 0, 2, 5, 0, 0, 0, 6, 0],\n",
    "        [0, 5, 3, 0, 7, 0, 0, 4, 0],\n",
    "        [0, 7, 8, 0, 0, 1, 0, 0, 0],\n",
    "        [9, 0, 0, 0, 5, 0, 0, 0, 0],\n",
    "        [0, 4, 0, 6, 0, 0, 0, 0, 0],\n",
    "        [0, 0, 0, 0, 0, 7, 0, 0, 2],\n",
    "        [5, 0, 0, 0, 4, 0, 7, 0, 0],\n",
    "        [0, 0, 0, 0, 0, 0, 1, 0, 6]\n",
    "    ]\n",
    ")\n",
    "grid.shape"
   ]
  },
  {
   "cell_type": "markdown",
   "metadata": {},
   "source": [
    "# Model:\n",
    "\n",
    "Maximize $0$\n",
    "\n",
    "Subject to:\n",
    "- $\\sum_{k=1}^{9}{x(i, j, k)} = 1 \\quad \\forall i, j = 1 \\dots 9$ (1)\n",
    "- $\\sum_{j=1}^{9}{x(i, j, k)} = 1 \\quad \\forall i, k = 1 \\dots 9$ (2)\n",
    "- $\\sum_{i=1}^{9}{x(i, j, k)} = 1 \\quad \\forall j, k = 1 \\dots 9$ (3)\n",
    "- $\\sum_{i=1}^{3}\\sum_{j=1}^{3}x(i, j, k) = 1 \\quad \\forall \\quad 1 \\le i \\le 3 \\quad , \\forall \\quad 1 \\le k \\le 9$ (4)\n",
    "\n",
    "or:\n",
    "\n",
    "- $\\sum_{i=1}^{3}\\sum_{j=1}^{3}x(i + U, j + V, k) = 1 \\quad where \\quad U, V \\in [0, 3, 6]$ (4)"
   ]
  },
  {
   "cell_type": "code",
   "execution_count": 39,
   "metadata": {},
   "outputs": [
    {
     "name": "stdout",
     "output_type": "stream",
     "text": [
      "[[6 1 7 8 9 4 5 2 3]\n",
      " [4 9 2 5 1 3 8 6 7]\n",
      " [8 5 3 2 7 6 9 4 1]\n",
      " [2 7 8 4 3 1 6 9 5]\n",
      " [9 3 6 7 5 8 2 1 4]\n",
      " [1 4 5 6 2 9 3 7 8]\n",
      " [3 8 9 1 6 7 4 5 2]\n",
      " [5 6 1 3 4 2 7 8 9]\n",
      " [7 2 4 9 8 5 1 3 6]]\n"
     ]
    }
   ],
   "source": [
    "# Model\n",
    "mdl = Model(name='Sudoku')\n",
    "\n",
    "# Decision variables\n",
    "keys = []\n",
    "for i in range(N_ROWS):\n",
    "    for j in range(N_COLS):\n",
    "        for k in range(N_DIGITS):\n",
    "            keys.append(f'x_({i},{j},{k})')\n",
    "            \n",
    "x = np.array(mdl.binary_var_list(keys)).reshape((9, 9, 9))\n",
    "\n",
    "# Constraints:\n",
    "\n",
    "# Preset grid number\n",
    "for i in range(N_ROWS):\n",
    "    for j in range(N_COLS):\n",
    "        k = grid[i, j]\n",
    "        if k != 0:\n",
    "            mdl.add_constraint(x[i, j, (k - 1)] == 1)\n",
    "\n",
    "\n",
    "# (1) Only one digit must be selected - Depth must sum 1\n",
    "for i in range(N_ROWS):\n",
    "    for j in range(N_COLS):\n",
    "        mdl.add_constraint(mdl.sum([x[i, j, k] for k in range(N_DIGITS)]) == 1)\n",
    "\n",
    "# (3) Can't repeat same digit in columns - Columns must sum 1 in all depths\n",
    "for j in range(N_COLS):\n",
    "    for k in range(N_DIGITS):\n",
    "        mdl.add_constraint(mdl.sum([x[i, j, k] for i in range(N_ROWS)]) == 1)\n",
    "        \n",
    "# (2) Can't repeat same digit in rows - Rows must sum 1 in all depths\n",
    "for i in range(N_ROWS):\n",
    "    for k in range(N_DIGITS):\n",
    "        mdl.add_constraint(mdl.sum([x[i, j, k] for j in range(N_COLS)]) == 1)\n",
    "        \n",
    "# (4) Can't repeat same digit in 3x3 inner grids - Each 3x3 inner grid must sum 1 in all depths\n",
    "for i in range(0, N_ROWS, 3):\n",
    "    for j in range(0, N_COLS, 3):\n",
    "        for k in range(N_DIGITS):\n",
    "            mdl.add_constraint(mdl.sum([x[row, col, k] for row in range(i, i+3) for col in range(j, j+3)]) == 1)\n",
    "            \n",
    "# Objective Function\n",
    "mdl.minimize(0)\n",
    "\n",
    "# Solve model\n",
    "mdl.solve()\n",
    "\n",
    "# Print solution\n",
    "x_sol = []\n",
    "for i in range(N_ROWS):\n",
    "    for j in range(N_COLS):\n",
    "        for k in range(N_DIGITS):\n",
    "            if x[i, j, k].solution_value == 1:\n",
    "                x_sol.append(k+1)\n",
    "x_sol = np.array(x_sol).reshape((9, 9))\n",
    "print(x_sol)"
   ]
  }
 ],
 "metadata": {
  "kernelspec": {
   "display_name": "Python 3",
   "language": "python",
   "name": "python3"
  },
  "language_info": {
   "codemirror_mode": {
    "name": "ipython",
    "version": 3
   },
   "file_extension": ".py",
   "mimetype": "text/x-python",
   "name": "python",
   "nbconvert_exporter": "python",
   "pygments_lexer": "ipython3",
   "version": "3.6.9"
  }
 },
 "nbformat": 4,
 "nbformat_minor": 5
}
